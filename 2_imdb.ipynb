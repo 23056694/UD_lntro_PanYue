{
 "cells": [
  {
   "cell_type": "code",
   "execution_count": 4,
   "id": "004b0012",
   "metadata": {},
   "outputs": [
    {
     "ename": "ModuleNotFoundError",
     "evalue": "No module named 'selenium'",
     "output_type": "error",
     "traceback": [
      "\u001b[1;31m---------------------------------------------------------------------------\u001b[0m",
      "\u001b[1;31mModuleNotFoundError\u001b[0m                       Traceback (most recent call last)",
      "Cell \u001b[1;32mIn[4], line 2\u001b[0m\n\u001b[0;32m      1\u001b[0m \u001b[38;5;66;03m# Import Selenium and its sub libraries\u001b[39;00m\n\u001b[1;32m----> 2\u001b[0m \u001b[38;5;28;01mimport\u001b[39;00m \u001b[38;5;21;01mselenium\u001b[39;00m \n\u001b[0;32m      3\u001b[0m \u001b[38;5;28;01mfrom\u001b[39;00m \u001b[38;5;21;01mselenium\u001b[39;00m \u001b[38;5;28;01mimport\u001b[39;00m webdriver\n\u001b[0;32m      4\u001b[0m \u001b[38;5;28;01mfrom\u001b[39;00m \u001b[38;5;21;01mselenium\u001b[39;00m\u001b[38;5;21;01m.\u001b[39;00m\u001b[38;5;21;01mwebdriver\u001b[39;00m\u001b[38;5;21;01m.\u001b[39;00m\u001b[38;5;21;01mcommon\u001b[39;00m\u001b[38;5;21;01m.\u001b[39;00m\u001b[38;5;21;01mby\u001b[39;00m \u001b[38;5;28;01mimport\u001b[39;00m By\n",
      "\u001b[1;31mModuleNotFoundError\u001b[0m: No module named 'selenium'"
     ]
    }
   ],
   "source": [
    "# Import Selenium and its sub libraries\n",
    "import selenium \n",
    "from selenium import webdriver\n",
    "from selenium.webdriver.common.by import By\n",
    "from selenium.webdriver.common.keys import Keys\n",
    "from selenium.webdriver.support.ui import Select\n",
    "from selenium.webdriver.support.ui import WebDriverWait\n",
    "from selenium.webdriver.support import expected_conditions as EC\n",
    "from time import sleep\n",
    "import re"
   ]
  },
  {
   "cell_type": "code",
   "execution_count": null,
   "id": "83a910d3",
   "metadata": {},
   "outputs": [],
   "source": [
    "url=\"https://www.imdb.com/chart/top/\""
   ]
  },
  {
   "cell_type": "code",
   "execution_count": null,
   "id": "dad3b73c",
   "metadata": {},
   "outputs": [],
   "source": [
    "#Create lists\n",
    "films_list = []\n",
    "author_list=[]\n",
    "link_list=[]\n"
   ]
  },
  {
   "cell_type": "code",
   "execution_count": null,
   "id": "75a0f7aa",
   "metadata": {},
   "outputs": [],
   "source": [
    "driver = webdriver.Chrome()\n",
    "driver.get(url)\n",
    "\n",
    "search_query = driver.find_element( \"name\" , \"q\")\n",
    "search_query.send_keys ( \"gold \")\n",
    "search_query.send_keys(Keys.RETURN)"
   ]
  },
  {
   "cell_type": "code",
   "execution_count": null,
   "id": "a6a13eb1",
   "metadata": {},
   "outputs": [],
   "source": [
    "def extract_page_data(driver):\n",
    "   \n",
    "    films=driver.find_elements(\"class name\", \"searchResultItem\")\n",
    "    #print(len(books))\n",
    "\n",
    "    #Create loop to itterate on the list\n",
    "    for b in range(len(films)):\n",
    "        try:          \n",
    "            #Extracting title\n",
    "            title = films[b].find_element(\"class name\",\"sc-17bafbdb-2 ffAEHI\").text\n",
    "            #print(title)\n",
    "        \n",
    "            #Extraction of authors\n",
    "            authors=films[b].find_element(\"class name\",\"sc-17bafbdb-2 ffAEHI\").text\n",
    "            #print(authors)\n",
    "        \n",
    "    \n",
    "        \n",
    "                  \n",
    "            #Add item to the respective lists\n",
    "            films_list.append(title)\n",
    "            author_list.append(authors)\n",
    "            link_list.append(link)\n",
    "            sleep(2)  \n",
    "        \n",
    "        except:\n",
    "            pass\n",
    "                       \n",
    "            \n",
    "driver.quit()"
   ]
  },
  {
   "cell_type": "code",
   "execution_count": 2,
   "id": "6d64d079",
   "metadata": {},
   "outputs": [
    {
     "ename": "NameError",
     "evalue": "name 'films_list' is not defined",
     "output_type": "error",
     "traceback": [
      "\u001b[1;31m---------------------------------------------------------------------------\u001b[0m",
      "\u001b[1;31mNameError\u001b[0m                                 Traceback (most recent call last)",
      "Cell \u001b[1;32mIn[2], line 1\u001b[0m\n\u001b[1;32m----> 1\u001b[0m \u001b[38;5;28mprint\u001b[39m [\u001b[43mfilms_list\u001b[49m]\n",
      "\u001b[1;31mNameError\u001b[0m: name 'films_list' is not defined"
     ]
    }
   ],
   "source": [
    "print [films_list]"
   ]
  },
  {
   "cell_type": "code",
   "execution_count": null,
   "id": "bdbdb445",
   "metadata": {},
   "outputs": [],
   "source": []
  },
  {
   "cell_type": "code",
   "execution_count": null,
   "id": "8908f330",
   "metadata": {},
   "outputs": [],
   "source": []
  }
 ],
 "metadata": {
  "kernelspec": {
   "display_name": "Python 3 (ipykernel)",
   "language": "python",
   "name": "python3"
  },
  "language_info": {
   "codemirror_mode": {
    "name": "ipython",
    "version": 3
   },
   "file_extension": ".py",
   "mimetype": "text/x-python",
   "name": "python",
   "nbconvert_exporter": "python",
   "pygments_lexer": "ipython3",
   "version": "3.8.18"
  }
 },
 "nbformat": 4,
 "nbformat_minor": 5
}

{
 "cells": [
  {
   "cell_type": "code",
   "execution_count": null,
   "id": "0c170489",
   "metadata": {},
   "outputs": [],
   "source": [
    "\n"
   ]
  },
  {
   "cell_type": "code",
   "execution_count": null,
   "id": "06d94249",
   "metadata": {},
   "outputs": [],
   "source": [
    "from selenium import webdriver\n",
    "\n",
    "\n",
    "webdriver_path = '/path/to/your/webdriver'\n",
    "\n",
    "\n",
    "driver = webdriver.Chrome(executable_path=webdriver_path)\n",
    "\n",
    "\n",
    "driver.get('https://www.imdb.com/chart/top/')\n",
    "\n",
    "\n",
    "movie_list = driver.find_elements_by_class_name('titleColumn')\n",
    "\n",
    "\n",
    "movie_data = []\n",
    "\n",
    "\n",
    "for movie in movie_list:\n",
    "    title_element = movie.find_element_by_tag_name('a')\n",
    "    title = title_element.text\n",
    "    link = title_element.get_attribute('href')\n",
    "    movie_data.append({'title': title, 'link': link})\n",
    "\n",
    "\n",
    "driver.quit()\n",
    "\n",
    "\n",
    "for i, data in enumerate(movie_data, start=1):\n",
    "    print(f'{i}. Title: {data[\"title\"]}')\n",
    "    print(f'   Link: {data[\"link\"]}\\n')\n",
    "\n"
   ]
  }
 ],
 "metadata": {
  "kernelspec": {
   "display_name": "Python 3 (ipykernel)",
   "language": "python",
   "name": "python3"
  },
  "language_info": {
   "codemirror_mode": {
    "name": "ipython",
    "version": 3
   },
   "file_extension": ".py",
   "mimetype": "text/x-python",
   "name": "python",
   "nbconvert_exporter": "python",
   "pygments_lexer": "ipython3",
   "version": "3.8.18"
  }
 },
 "nbformat": 4,
 "nbformat_minor": 5
}
